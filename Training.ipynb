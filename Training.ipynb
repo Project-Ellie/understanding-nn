{
 "cells": [
  {
   "cell_type": "markdown",
   "metadata": {},
   "source": [
    "### Training MNIST with Zalando's fashion data set\n",
    "![zalando box](zalando_box.jpg)"
   ]
  },
  {
   "cell_type": "code",
   "execution_count": 2,
   "metadata": {},
   "outputs": [],
   "source": [
    "from __future__ import absolute_import\n",
    "from __future__ import division\n",
    "from __future__ import print_function\n",
    "\n",
    "import argparse\n",
    "import sys\n",
    "import os\n",
    "\n",
    "from matplotlib import pyplot as plt\n",
    "\n",
    "import tensorflow as tf\n",
    "\n",
    "import dataset\n",
    "\n",
    "from helpers.gpu_utils import validate_batch_size_for_multi_gpu\n",
    "from helpers.softmax_cross_entropy_trainer import create_model_fn"
   ]
  },
  {
   "cell_type": "code",
   "execution_count": 3,
   "metadata": {},
   "outputs": [],
   "source": [
    "from models.conv2_dense2_dropout import Model"
   ]
  },
  {
   "cell_type": "code",
   "execution_count": 4,
   "metadata": {},
   "outputs": [],
   "source": [
    "from models.dense3 import Model"
   ]
  },
  {
   "cell_type": "code",
   "execution_count": 5,
   "metadata": {},
   "outputs": [],
   "source": [
    "FLAGS=lambda: None\n",
    "FLAGS.multi_gpu=False\n",
    "FLAGS.model_dir='/tmp/mnist_model'\n",
    "#FLAGS.data_dir='data/digits'\n",
    "FLAGS.data_dir='data/fashion'\n",
    "FLAGS.batch_size=128\n",
    "FLAGS.train_epochs=2"
   ]
  },
  {
   "cell_type": "code",
   "execution_count": 6,
   "metadata": {},
   "outputs": [],
   "source": [
    "!rm -rf /tmp/mnist_model"
   ]
  },
  {
   "cell_type": "markdown",
   "metadata": {},
   "source": [
    "Let's peek into the Zalando box!"
   ]
  },
  {
   "cell_type": "code",
   "execution_count": 7,
   "metadata": {},
   "outputs": [
    {
     "data": {
      "image/png": "[encoded data removed]",
      "text/plain": [
       "<Figure size 432x288 with 10 Axes>"
      ]
     },
     "metadata": {},
     "output_type": "display_data"
    }
   ],
   "source": [
    "sess = tf.InteractiveSession()\n",
    "test_set = dataset.training_dataset(FLAGS.data_dir)\n",
    "samples = test_set.batch(4000).make_one_shot_iterator().get_next()\n",
    "samples = sess.run(samples)\n",
    "f, arr = plt.subplots(2,5)\n",
    "for row in (0, 1):\n",
    "    for col in range(5):\n",
    "        i = 5 * row + col\n",
    "        img = samples[0][i].reshape([28,28])\n",
    "        arr[row, col].imshow(img)"
   ]
  },
  {
   "cell_type": "markdown",
   "metadata": {},
   "source": [
    "above you see some examples of the 10 classes of fashion \n",
    "\n",
    "| Label | Description |\n",
    "--------|-------------|\n",
    "| 0     | T-shirt/top |\n",
    "| 1     | Trouser     |\n",
    "| 2     | Pullover    |\n",
    "| 3     | Dress       |\n",
    "| 4     | Coat        |\n",
    "| 5     | Sandal      |\n",
    "| 6     | Shirt       |\n",
    "| 7     | Sneaker     |\n",
    "| 8     | Bag         |\n",
    "| 9     | Ankle Boot  |"
   ]
  },
  {
   "cell_type": "markdown",
   "metadata": {},
   "source": [
    "### Dimension reduction with Tensorboard\n",
    "Before we start the training, let's have a look at the similarity between image vectors of particular classes"
   ]
  },
  {
   "cell_type": "code",
   "execution_count": 10,
   "metadata": {},
   "outputs": [],
   "source": [
    "from tensorflow.examples.tutorials.mnist import input_data\n",
    "from tensorflow.contrib.tensorboard.plugins import projector\n",
    "\n",
    "LOG_DIR = '/tmp/logs'\n",
    "\n",
    "images = tf.Variable(samples[0], name='images')\n",
    "    \n",
    "metadata = os.path.join(LOG_DIR, 'metadata.tsv')\n",
    "\n",
    "with open(metadata, 'w') as metadata_file:\n",
    "    for row in samples[1]:\n",
    "        metadata_file.write('%d\\n' % row)\n",
    "\n",
    "with tf.Session() as sess:\n",
    "    saver = tf.train.Saver([images])\n",
    "\n",
    "    sess.run(images.initializer)\n",
    "    saver.save(sess, os.path.join(LOG_DIR, 'images.ckpt'))\n",
    "\n",
    "    config = projector.ProjectorConfig()\n",
    "    # One can add multiple embeddings.\n",
    "    embedding = config.embeddings.add()\n",
    "    embedding.tensor_name = images.name\n",
    "    # Link this tensor to its metadata file (e.g. labels).\n",
    "    embedding.metadata_path = metadata\n",
    "    # Saves a config file that TensorBoard will read during startup.\n",
    "    projector.visualize_embeddings(tf.summary.FileWriter(LOG_DIR), config)"
   ]
  },
  {
   "cell_type": "code",
   "execution_count": 11,
   "metadata": {},
   "outputs": [
    {
     "name": "stdout",
     "output_type": "stream",
     "text": [
      "TensorBoard 1.7.0 at http://wolfgangs-mac-pro.home:6006 (Press CTRL+C to quit)\n",
      "^C\n"
     ]
    }
   ],
   "source": [
    "!tensorboard --logdir=/tmp/logs"
   ]
  },
  {
   "cell_type": "code",
   "execution_count": 16,
   "metadata": {},
   "outputs": [],
   "source": [
    "model_function = create_model_fn(lambda params: Model(params), tf.train.AdamOptimizer())"
   ]
  },
  {
   "cell_type": "code",
   "execution_count": 17,
   "metadata": {},
   "outputs": [],
   "source": [
    "if FLAGS.multi_gpu:\n",
    "    validate_batch_size_for_multi_gpu(FLAGS.batch_size)\n",
    "\n",
    "    # There are two steps required if using multi-GPU: (1) wrap the model_fn,\n",
    "    # and (2) wrap the optimizer. The first happens here, and (2) happens\n",
    "    # in the model_fn itself when the optimizer is defined.\n",
    "    model_function = tf.contrib.estimator.replicate_model_fn(\n",
    "        model_function, loss_reduction=tf.losses.Reduction.MEAN)\n",
    "\n",
    "data_format = ('channels_first' if tf.test.is_built_with_cuda() else 'channels_last')"
   ]
  },
  {
   "cell_type": "code",
   "execution_count": 18,
   "metadata": {},
   "outputs": [
    {
     "name": "stdout",
     "output_type": "stream",
     "text": [
      "INFO:tensorflow:Using default config.\n",
      "INFO:tensorflow:Using config: {'_model_dir': '/tmp/mnist_model', '_tf_random_seed': None, '_save_summary_steps': 100, '_save_checkpoints_steps': None, '_save_checkpoints_secs': 600, '_session_config': None, '_keep_checkpoint_max': 5, '_keep_checkpoint_every_n_hours': 10000, '_log_step_count_steps': 100, '_service': None, '_cluster_spec': <tensorflow.python.training.server_lib.ClusterSpec object at 0x117ba1160>, '_task_type': 'worker', '_task_id': 0, '_global_id_in_cluster': 0, '_master': '', '_evaluation_master': '', '_is_chief': True, '_num_ps_replicas': 0, '_num_worker_replicas': 1}\n"
     ]
    }
   ],
   "source": [
    "mnist_classifier = tf.estimator.Estimator(\n",
    "    model_fn=model_function,\n",
    "    model_dir=FLAGS.model_dir,\n",
    "    params={\n",
    "        'data_format': data_format,\n",
    "        'multi_gpu': FLAGS.multi_gpu\n",
    "    })"
   ]
  },
  {
   "cell_type": "markdown",
   "metadata": {},
   "source": [
    "##### ```input_fn``` functions are a factories for ```DataSet```s"
   ]
  },
  {
   "cell_type": "code",
   "execution_count": 19,
   "metadata": {},
   "outputs": [],
   "source": [
    "def train_input_fn():\n",
    "    ds = dataset.training_dataset(FLAGS.data_dir)\n",
    "    ds = ds.cache().shuffle(buffer_size=50000).\\\n",
    "        batch(FLAGS.batch_size).\\\n",
    "        repeat(FLAGS.train_epochs)\n",
    "    return ds"
   ]
  },
  {
   "cell_type": "code",
   "execution_count": 20,
   "metadata": {},
   "outputs": [],
   "source": [
    "def eval_input_fn():\n",
    "    return dataset.test_dataset(FLAGS.data_dir).batch(\n",
    "        FLAGS.batch_size).make_one_shot_iterator().get_next()"
   ]
  },
  {
   "cell_type": "code",
   "execution_count": 21,
   "metadata": {},
   "outputs": [],
   "source": [
    "tensors_to_log = {'train_accuracy': 'train_accuracy'}\n",
    "logging_hook = tf.train.LoggingTensorHook(tensors=tensors_to_log, every_n_iter=100)"
   ]
  },
  {
   "cell_type": "code",
   "execution_count": 22,
   "metadata": {},
   "outputs": [
    {
     "name": "stdout",
     "output_type": "stream",
     "text": [
      "INFO:tensorflow:Calling model_fn.\n",
      "INFO:tensorflow:Done calling model_fn.\n",
      "INFO:tensorflow:Create CheckpointSaverHook.\n",
      "INFO:tensorflow:Graph was finalized.\n",
      "INFO:tensorflow:Running local_init_op.\n",
      "INFO:tensorflow:Done running local_init_op.\n",
      "INFO:tensorflow:Saving checkpoints for 1 into /tmp/mnist_model/model.ckpt.\n",
      "INFO:tensorflow:train_accuracy = 0.1171875\n",
      "INFO:tensorflow:loss = 2.4075556, step = 1\n",
      "INFO:tensorflow:global_step/sec: 71.8177\n",
      "INFO:tensorflow:train_accuracy = 0.453125 (1.393 sec)\n",
      "INFO:tensorflow:loss = 0.5541303, step = 101 (1.393 sec)\n",
      "INFO:tensorflow:global_step/sec: 177.999\n",
      "INFO:tensorflow:train_accuracy = 0.5963542 (0.562 sec)\n",
      "INFO:tensorflow:loss = 0.41253126, step = 201 (0.562 sec)\n",
      "INFO:tensorflow:global_step/sec: 179.082\n",
      "INFO:tensorflow:train_accuracy = 0.6542969 (0.558 sec)\n",
      "INFO:tensorflow:loss = 0.45018226, step = 301 (0.558 sec)\n",
      "INFO:tensorflow:global_step/sec: 167.426\n",
      "INFO:tensorflow:train_accuracy = 0.7015625 (0.597 sec)\n",
      "INFO:tensorflow:loss = 0.30093133, step = 401 (0.597 sec)\n",
      "INFO:tensorflow:global_step/sec: 171.941\n",
      "INFO:tensorflow:train_accuracy = 0.72526044 (0.582 sec)\n",
      "INFO:tensorflow:loss = 0.41321656, step = 501 (0.581 sec)\n",
      "INFO:tensorflow:global_step/sec: 174.891\n",
      "INFO:tensorflow:train_accuracy = 0.7488839 (0.572 sec)\n",
      "INFO:tensorflow:loss = 0.33656383, step = 601 (0.572 sec)\n",
      "INFO:tensorflow:global_step/sec: 169.985\n",
      "INFO:tensorflow:train_accuracy = 0.7675781 (0.588 sec)\n",
      "INFO:tensorflow:loss = 0.35297102, step = 701 (0.588 sec)\n",
      "INFO:tensorflow:global_step/sec: 168.375\n",
      "INFO:tensorflow:train_accuracy = 0.7777778 (0.594 sec)\n",
      "INFO:tensorflow:loss = 0.3510152, step = 801 (0.594 sec)\n",
      "INFO:tensorflow:global_step/sec: 177.026\n",
      "INFO:tensorflow:train_accuracy = 0.790625 (0.565 sec)\n",
      "INFO:tensorflow:loss = 0.31942925, step = 901 (0.565 sec)\n",
      "INFO:tensorflow:Saving checkpoints for 938 into /tmp/mnist_model/model.ckpt.\n",
      "INFO:tensorflow:Loss for final step: 0.32368246.\n"
     ]
    },
    {
     "data": {
      "text/plain": [
       "<tensorflow.python.estimator.estimator.Estimator at 0x117b8c748>"
      ]
     },
     "execution_count": 22,
     "metadata": {},
     "output_type": "execute_result"
    }
   ],
   "source": [
    "mnist_classifier.train(input_fn=train_input_fn, hooks=[logging_hook])"
   ]
  },
  {
   "cell_type": "code",
   "execution_count": 23,
   "metadata": {},
   "outputs": [
    {
     "name": "stdout",
     "output_type": "stream",
     "text": [
      "INFO:tensorflow:Calling model_fn.\n",
      "INFO:tensorflow:Done calling model_fn.\n",
      "INFO:tensorflow:Starting evaluation at 2018-03-24-21:46:27\n",
      "INFO:tensorflow:Graph was finalized.\n",
      "INFO:tensorflow:Restoring parameters from /tmp/mnist_model/model.ckpt-938\n",
      "INFO:tensorflow:Running local_init_op.\n",
      "INFO:tensorflow:Done running local_init_op.\n",
      "INFO:tensorflow:Finished evaluation at 2018-03-24-21:46:28\n",
      "INFO:tensorflow:Saving dict for global step 938: accuracy = 0.8691, global_step = 938, loss = 0.36499518\n",
      "Evaluation results:\n",
      "\t{'accuracy': 0.8691, 'loss': 0.36499518, 'global_step': 938}\n"
     ]
    }
   ],
   "source": [
    "eval_results = mnist_classifier.evaluate(input_fn=eval_input_fn)\n",
    "print('Evaluation results:\\n\\t%s' % eval_results)"
   ]
  },
  {
   "cell_type": "code",
   "execution_count": null,
   "metadata": {},
   "outputs": [],
   "source": []
  }
 ],
 "metadata": {
  "kernelspec": {
   "display_name": "Python 3",
   "language": "python",
   "name": "python3"
  },
  "language_info": {
   "codemirror_mode": {
    "name": "ipython",
    "version": 3
   },
   "file_extension": ".py",
   "mimetype": "text/x-python",
   "name": "python",
   "nbconvert_exporter": "python",
   "pygments_lexer": "ipython3",
   "version": "3.6.4"
  }
 },
 "nbformat": 4,
 "nbformat_minor": 2
}
