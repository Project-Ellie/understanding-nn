{
 "cells": [
  {
   "cell_type": "markdown",
   "metadata": {},
   "source": [
    "# A Differentiable Approximation for Entropies "
   ]
  },
  {
   "cell_type": "markdown",
   "metadata": {},
   "source": [
    "### 1. Entropy and Information Content in Neural Networks"
   ]
  },
  {
   "cell_type": "markdown",
   "metadata": {},
   "source": [
    "Neural networks are just functions. Admittedly, highly parameterized functions, but yes - just functions: $y=f(x)$. Here, $x$ is some input - like e.g. an image - and $y$ is the output. Once the network is sufficiently trained, we dare to interpret the output as an estimation for the probability of that image to represent a particular digit, given the pixel intensities of that image. Even humans would agree that the following digit may be interpreted in different ways. You may in fact give it a 10% probability to be a three. Typically, we even dare to interpret the highest of probabilities as the *prediction*, like \"That image in fact *is* a digit 5\"."
   ]
  },
  {
   "cell_type": "markdown",
   "metadata": {},
   "source": [
    "![3_or_5](./5.png)"
   ]
  },
  {
   "cell_type": "markdown",
   "metadata": {},
   "source": [
    "Training a neural network means exposing the network to a sufficiently large sample (the training set) from a probability distribution of pixel sets (images) and guide it (via Gradient Descent) to reproduce (infer) the digit that was meant by the hand-writing (the prior). In information theory, we call *\"writing the digit down and making a photo of it\"* a noisy encoding. The information about the original intent is still encoded in the image, but sometimes there's room for misinterpretations. Now, as the pixel distribution is passed through the neural network, at each layer we create a new a new distribution - this time of activations - from the original input. It would be interesting to understand how the information content changes from layer to layer. And that's where Entropy enters the game. \n",
    "\n",
    "Aurelion Geron recorded an amazingly easy-to-grasp youtube clip called [Entropy, Cross-Entropy, & KL-Divergence](https://www.youtube.com/watch?v=ErfnhcEV1O8). If you're not already familiar with the concepts of entropy, I highly recommend it. Aurelion's warm-hearted french accent makes information theory even sound somewhat sexy. Of course, there is a plethora of more serious books out there. My personal favourite is Bavaud, Chappelier, Kohlas' comprehensive introductory text - a whopping 300 pages of math available as pdf:  [An Introduction to Information Theory and Applications](http://www.fon.hum.uva.nl/rob/Courses/InformationInSpeech/CDROM/Literature/LOTwinterschool2006/diuf.unifr.ch/tcs/courses/it04-05/script/information-theory.pdf)\n",
    "\n",
    "Here's a summary of things you should know and understand to some degree:\n",
    "\n",
    "##### Entropy \n",
    "\n",
    "$$ H(X) := -\\sum_{x \\in \\mathcal{X}} p(x) \\log p(x)$$\n",
    "\n",
    "##### Conditional entropy \n",
    "\n",
    "$$ H(Y \\big| X) := -\\sum_{x \\in \\mathcal{X}} p(x) H(Y\\big|X=x) = -\\sum_{x \\in \\mathcal{X}} p(x) \\sum_{y\\in \\mathcal{Y}} p(y|x) \\cdot \\log p(y|x) = -\\sum_{x \\in \\mathcal{X}} \\sum_{y\\in \\mathcal{Y}} p(x,y) \\log(\\frac{p(x,y)}{p(x)})$$\n",
    "\n",
    "##### Joint Entropy \n",
    "\n",
    "$$ H(Y, X) := -\\sum_{x \\in \\mathcal{X}} \\sum_{y\\in \\mathcal{Y}} p(x,y) \\log p(x,y)$$\n",
    "\n",
    "##### Mutual information\n",
    "\n",
    "$$ I(X;Y) := \\sum_{x \\in \\mathcal{X}} \\sum_{y\\in \\mathcal{Y}} p(x,y)log(\\frac{p(x,y)}{p(x)p(y)}) $$\n",
    "\n",
    "##### Some useful properties \n",
    "$$ H(X,Y) \\leq H(X)+H(Y)$$\n",
    "\n",
    "$$ H(Y|X) = 0 \\iff  \\text{Y is completely determined by X} $$ \n",
    "\n",
    "$$ H(Y|X) = H(Y) \\iff \\text{X and Y are independent}$$\n",
    "\n",
    "$$ H(Y|X) = H(Y,X) - H(X) $$\n",
    "\n",
    "$$ I(X;Y) = H(X) + H(Y) - H(X,Y) $$\n",
    "\n",
    "$$ I(X;Y) = H(Y) - H(Y|X) $$"
   ]
  },
  {
   "cell_type": "markdown",
   "metadata": {},
   "source": [
    "Let's start with entropy. The entropy of a distribution is the average amount of information that we get when a sample is revealed. The weather in the Sahara has a low entropy, because if you tell me it's sunny there, I could have guessed that. Quite the opposite in e.g. Switzerland. Weather forecasts are always very appreciated, because the weather is changing so much. Same with digits: If you tell me that the center pixel of an image depicting the digit zero is white, that's not surprising at all. But if I didn't know what digit is displayed, that information would be very valuable, because it may be a good hint that the digit is a zero. The conditional entropy of the center pixel distribution, given $x=0$ is low. The overall entropy of the center pixel is higher. "
   ]
  },
  {
   "cell_type": "markdown",
   "metadata": {},
   "source": [
    "### 2. Example: MNIST's Center Pixel Statistics\n",
    "Why not leave theory for now and prove what I said: Let's calculate the center pixel's entropy on a large training batch. And then compare that to the conditional entropy, i.e. the entropy on the subset of digits zero. "
   ]
  },
  {
   "cell_type": "markdown",
   "metadata": {},
   "source": [
    "We'll be using the Tensorflow 1.6.0 release candidate:"
   ]
  },
  {
   "cell_type": "code",
   "execution_count": 1,
   "metadata": {},
   "outputs": [
    {
     "data": {
      "text/plain": [
       "'1.7.0'"
      ]
     },
     "execution_count": 1,
     "metadata": {},
     "output_type": "execute_result"
    }
   ],
   "source": [
    "import tensorflow as tf\n",
    "import numpy as np\n",
    "import matplotlib.pyplot as plt\n",
    "import dataset # Please have a look at dataset.py in this repo to understand how we get to the data\n",
    "tf.__version__"
   ]
  },
  {
   "cell_type": "code",
   "execution_count": 2,
   "metadata": {},
   "outputs": [],
   "source": [
    "sess = tf.InteractiveSession()"
   ]
  },
  {
   "cell_type": "markdown",
   "metadata": {},
   "source": [
    "Note that we're using the recommended tf.data.Dataset API here\n",
    "\n",
    "It's always recommended to visualize and verify the quality of the input data. "
   ]
  },
  {
   "cell_type": "code",
   "execution_count": 3,
   "metadata": {},
   "outputs": [
    {
     "data": {
      "text/plain": [
       "array([5, 0, 4, 1, 9, 2, 1, 3, 1, 4], dtype=int32)"
      ]
     },
     "execution_count": 3,
     "metadata": {},
     "output_type": "execute_result"
    },
    {
     "data": {
      "image/png": "[encoded data removed]",
      "text/plain": [
       "<Figure size 432x288 with 10 Axes>"
      ]
     },
     "metadata": {},
     "output_type": "display_data"
    }
   ],
   "source": [
    "FLAGS=lambda: None\n",
    "FLAGS.data_dir='data/digits'\n",
    "\n",
    "training_set = dataset.training_dataset(FLAGS.data_dir)\n",
    "samples = training_set.batch(10).make_one_shot_iterator().get_next()\n",
    "samples = sess.run(samples)\n",
    "f, arr = plt.subplots(2,5)\n",
    "for row in (0, 1):\n",
    "    for col in range(5):\n",
    "        i = 5 * row + col\n",
    "        img = samples[0][i].reshape([28,28])\n",
    "        arr[row, col].imshow(img)\n",
    "samples[1][:10]"
   ]
  },
  {
   "cell_type": "markdown",
   "metadata": {},
   "source": [
    "So, that's good. Let's take the zeros within the first 10'000 images (There are 1001 of those). Enjoy the beautiful functional interface of the datasets!"
   ]
  },
  {
   "cell_type": "code",
   "execution_count": 4,
   "metadata": {},
   "outputs": [
    {
     "data": {
      "text/plain": [
       "1001"
      ]
     },
     "execution_count": 4,
     "metadata": {},
     "output_type": "execute_result"
    },
    {
     "data": {
      "image/png": "[encoded data removed]",
      "text/plain": [
       "<Figure size 432x288 with 10 Axes>"
      ]
     },
     "metadata": {},
     "output_type": "display_data"
    }
   ],
   "source": [
    "FLAGS=lambda: None\n",
    "FLAGS.data_dir='data/digits'\n",
    "\n",
    "training_set = dataset.training_dataset(FLAGS.data_dir)\n",
    "samples = training_set.repeat().batch(10000).make_one_shot_iterator().get_next()\n",
    "_samples = sess.run(samples)\n",
    "\n",
    "# Functional interfaces: Read from bottom to top: zip - then filter - then map\n",
    "zeros = list(map( lambda r: r[0],          # take the image, drop the class, it's zero anyway!\n",
    "    filter(lambda r: r[1] == 0,            # filter zero class\n",
    "           zip(_samples[0],_samples[1])))) # zip images and classes\n",
    "\n",
    "f, arr = plt.subplots(2,5)\n",
    "for row in (0, 1):\n",
    "    for col in range(5):\n",
    "        i = 5 * row + col\n",
    "        img = np.reshape(zeros[i], [28,28])\n",
    "        arr[row, col].imshow(img)\n",
    "len(zeros)"
   ]
  },
  {
   "cell_type": "markdown",
   "metadata": {},
   "source": [
    "Now, we'll extract the center pixel No. 406 and observe the distribution of it's value within the zeros compared to the entire batch of 10'000 images"
   ]
  },
  {
   "cell_type": "code",
   "execution_count": 5,
   "metadata": {},
   "outputs": [
    {
     "data": {
      "text/plain": [
       "(array([961.,   6.,   7.,   3.,   7.,   1.,   4.,   2.,   2.,   8.]),\n",
       " array([0. , 0.1, 0.2, 0.3, 0.4, 0.5, 0.6, 0.7, 0.8, 0.9, 1. ]),\n",
       " <a list of 10 Patch objects>)"
      ]
     },
     "execution_count": 5,
     "metadata": {},
     "output_type": "execute_result"
    },
    {
     "data": {
      "image/png": "[encoded data removed]",
      "text/plain": [
       "<Figure size 432x288 with 1 Axes>"
      ]
     },
     "metadata": {},
     "output_type": "display_data"
    }
   ],
   "source": [
    "# An image has 28x28=784 pixels, hence 784/2 + 14 = 406 is the center pixel (Ok, ok, it's one of the four center pixels!)\n",
    "CENTER_POS = 406\n",
    "\n",
    "centers_0  = list(map(lambda img: img[CENTER_POS], zeros))\n",
    "centers_all  = list(map(lambda img: img[CENTER_POS], _samples[0]))\n",
    "plt.hist(centers_0, bins=10)"
   ]
  },
  {
   "cell_type": "markdown",
   "metadata": {},
   "source": [
    "As promised, apart from a few exceptions, almost all pixels are zero or very close to zero. Let's see the distribution of all the center pixel values:"
   ]
  },
  {
   "cell_type": "code",
   "execution_count": 6,
   "metadata": {},
   "outputs": [
    {
     "data": {
      "text/plain": [
       "(array([3782.,  261.,  286.,  259.,  260.,  250.,  304.,  341.,  360.,\n",
       "        3897.]),\n",
       " array([0. , 0.1, 0.2, 0.3, 0.4, 0.5, 0.6, 0.7, 0.8, 0.9, 1. ]),\n",
       " <a list of 10 Patch objects>)"
      ]
     },
     "execution_count": 6,
     "metadata": {},
     "output_type": "execute_result"
    },
    {
     "data": {
      "image/png": "[encoded data removed]",
      "text/plain": [
       "<Figure size 432x288 with 1 Axes>"
      ]
     },
     "metadata": {},
     "output_type": "display_data"
    }
   ],
   "source": [
    "plt.hist(centers_all, bins=10)"
   ]
  },
  {
   "cell_type": "markdown",
   "metadata": {},
   "source": [
    "As opposed to the above, the distribution within the entire batch of 10'000 is less predictable, i.e. it has a higher entropy."
   ]
  },
  {
   "cell_type": "markdown",
   "metadata": {},
   "source": [
    "To compute the entropy of the distribution, we take the bin counts that are automatically calculated for us by the pyplot package (See output of the previous cell). It would be nice to have a little function that does the jobs for us, woudln't it? Well, we save that for later when we introduce a function that indeed does it and also comes with the additional property of being differentiable."
   ]
  },
  {
   "cell_type": "code",
   "execution_count": 7,
   "metadata": {},
   "outputs": [
    {
     "data": {
      "text/plain": [
       "(0.24904864416161798, 1.5546047214294172)"
      ]
     },
     "execution_count": 7,
     "metadata": {},
     "output_type": "execute_result"
    }
   ],
   "source": [
    "probs_all = np.array([3782, 261, 286, 259, 260, 250, 304, 341, 360, 3897]) / 10000\n",
    "ln_probs_all = np.log(probs_all)\n",
    "entropy_all = -np.sum(probs_all * ln_probs_all)\n",
    "\n",
    "probs_0 = np.array([961, 6, 7, 3, 7, 1, 4, 2, 2, 8]) / 1001\n",
    "ln_probs_0 = np.log(probs_0)\n",
    "entropy_0 = -np.sum(probs_0 * ln_probs_0)\n",
    "\n",
    "entropy_0, entropy_all"
   ]
  },
  {
   "cell_type": "markdown",
   "metadata": {},
   "source": [
    "You can now see that the entropy of the entire batch of 10'000 is much higher than the entropy of the distribution given that the digit is known to be 0. But now, how would we calculate the entropy in the absence of pyplot? You could think of some function that looks at each value in a distribution and select a partition (or bin) based on that value. Eventually it would count the number of examples in each bin. This procedure does the job but it isn't differentiable"
   ]
  },
  {
   "cell_type": "markdown",
   "metadata": {},
   "source": [
    "### 3. Interlude: Differentiable Partitioning"
   ]
  },
  {
   "cell_type": "markdown",
   "metadata": {},
   "source": [
    "We have seen how we can calculate the total entropy and the conditional entropy with regards to the labels of a mini-batch of image samples with the help of simple statistics based on binned distributions. In order to use the entropy as a cost function within the concept of gradient-based optimization later on, we need a differentiable approximation of the entropy terms. That turns out to be an easy exercise. \n",
    "\n",
    "Remember the sigmoid function?\n",
    "$$ \\sigma(x) = \\frac{1}{1 + e^{-x}} $$"
   ]
  },
  {
   "cell_type": "code",
   "execution_count": 8,
   "metadata": {},
   "outputs": [],
   "source": [
    "def sigmoid(x):\n",
    "    return 1 / (1 + np.exp(-x))"
   ]
  },
  {
   "cell_type": "markdown",
   "metadata": {},
   "source": [
    "Let's use two of these to create a more interesting kind of *partitioning* function:\n",
    "\n",
    "$ f(x) = \\sigma(x - x_l) \\cdot \\sigma(x + x_r) $\n",
    "\n",
    "For example, for $x_l=5$ and $x_r=15$, that function looks like"
   ]
  },
  {
   "cell_type": "code",
   "execution_count": 9,
   "metadata": {},
   "outputs": [
    {
     "data": {
      "image/png": "[encoded data removed]",
      "text/plain": [
       "<Figure size 432x288 with 1 Axes>"
      ]
     },
     "metadata": {},
     "output_type": "display_data"
    }
   ],
   "source": [
    "def f(x, x_l, x_r):\n",
    "    return sigmoid(x - x_l) * sigmoid(-x + x_r)\n",
    "x=np.linspace(0, 20, 200)\n",
    "fig, ax = plt.subplots()\n",
    "ax.plot(x, f(x, 5, 15))\n",
    "ax.grid(True, which='both')\n",
    "ax.spines['left'].set_position('zero')\n",
    "ax.spines['bottom'].set_position('zero')"
   ]
  },
  {
   "cell_type": "markdown",
   "metadata": {},
   "source": [
    "See, what it does? It approximately maps all values in a certain bin's range to 1 and all values outside of it to 0. \n",
    "Please don't confuse this with a gaussian."
   ]
  },
  {
   "cell_type": "markdown",
   "metadata": {},
   "source": [
    "To make this function more square-looking and treat the borders appropriate, we introduce stretch and margin parameters. You'll easily figure out yourself what they do.\n",
    "\n",
    "Here's the precise definition that we'll use in the following calucations:\n",
    "\n",
    "Let $ x_i \\in [x_{min}, x_{max}] $ be a sample from distribution $D$, $d=x_{max}-x_{min}$,\n",
    "let $\\alpha, \\epsilon$ be arbitrary real numbers representing a stretch and a margin, then we define the *bin filter* $\\beta_n(x)$ for the $n$-th bin of width $d$ as\n",
    "\n",
    "$$ \\beta_n(x_i) = \\sigma(\\alpha \\cdot (x_i - l_n) + \\epsilon) \\cdot \n",
    " \\sigma(\\alpha \\cdot ( -x_i + l_n + d + \\epsilon))\n",
    "$$\n",
    "\n",
    "Here, $l_n$ is the left border of the $n$-th bin: $l_n = x_{min} + (n-1) \\cdot d$ "
   ]
  },
  {
   "cell_type": "code",
   "execution_count": 10,
   "metadata": {},
   "outputs": [],
   "source": [
    "def beta(n, N, l, r, alpha, epsilon):\n",
    "    \"\"\"\n",
    "    return the bin function for the n-th bin of N bins for numbers between l and r\n",
    "    alpha and epsilon are stretch and margin parameters\n",
    "    \"\"\"\n",
    "    d = (r - l) / N\n",
    "    l_n = l + (n-1) * d\n",
    "    def _beta(x):\n",
    "        sigmoid_left = tf.nn.sigmoid(alpha * (x-l_n+epsilon)) \n",
    "        sigmoid_right = tf.nn.sigmoid(alpha*(-x+l_n+d+epsilon))\n",
    "        return sigmoid_left * sigmoid_right\n",
    "    \n",
    "    return _beta"
   ]
  },
  {
   "cell_type": "markdown",
   "metadata": {},
   "source": [
    "As an example, we plot the partitioning function that maps values between $ 0.2 $ and $ 0.3 $ to the value $ 1 $ and all others to $ 0 $. Applying this function $\\beta_3(x)$ to a sample produces $1$s whereever the single value in the sample is within that range, and $0$s otherwise. The sum of all the values is the number of the examples in that particular partition."
   ]
  },
  {
   "cell_type": "code",
   "execution_count": 11,
   "metadata": {},
   "outputs": [],
   "source": [
    "# hyperparameters governing the approximation\n",
    "ALPHA = 1e4\n",
    "EPSILON = 1e-5"
   ]
  },
  {
   "cell_type": "code",
   "execution_count": 12,
   "metadata": {},
   "outputs": [
    {
     "data": {
      "image/png": "[encoded data removed]",
      "text/plain": [
       "<Figure size 432x288 with 1 Axes>"
      ]
     },
     "metadata": {},
     "output_type": "display_data"
    }
   ],
   "source": [
    "x=np.linspace(0, 1, 500)\n",
    "fig, ax = plt.subplots()\n",
    "beta3=beta(3, 10, 0, 1, alpha=ALPHA, epsilon=EPSILON)\n",
    "beta3_x = sess.run(beta3(x))\n",
    "ax.plot(x, beta3_x)\n",
    "ax.grid(True, which='both')\n",
    "ax.spines['left'].set_position('zero')\n",
    "ax.spines['bottom'].set_position('zero')"
   ]
  },
  {
   "cell_type": "markdown",
   "metadata": {},
   "source": [
    "Now, let us count the number of pixels that fell between $0.2$ and $0.3$"
   ]
  },
  {
   "cell_type": "code",
   "execution_count": 13,
   "metadata": {},
   "outputs": [],
   "source": [
    "# Please note that betas[0] is not used. We count the bins in a natural manner\n",
    "betas = [beta(n, 10, 0, 1, alpha=ALPHA, epsilon=EPSILON) for n in range(11)]\n",
    "betas[0]=None"
   ]
  },
  {
   "cell_type": "code",
   "execution_count": 14,
   "metadata": {},
   "outputs": [
    {
     "data": {
      "text/plain": [
       "[3760.0, 269.0, 291.0, 268.0, 260.0, 255.0, 311.0, 357.0, 372.0, 3857.0]"
      ]
     },
     "execution_count": 14,
     "metadata": {},
     "output_type": "execute_result"
    }
   ],
   "source": [
    "sess = tf.InteractiveSession()\n",
    "# The scaling (factor 0.98) and shifting by 0.01 makes sure, we don't count 0s and 1s only as halves\n",
    "tf_center_all = samples[0][:, CENTER_POS] * .98 + 0.01\n",
    "tf_center_all_labels = samples[1]\n",
    "N_k = [tf.reduce_sum(betas[k](tf_center_all)) for k in range(1, 11)] \n",
    "sess.run(N_k)"
   ]
  },
  {
   "cell_type": "markdown",
   "metadata": {},
   "source": [
    "Please observe that those numbers are very close to the number of values that pyplot reported. "
   ]
  },
  {
   "cell_type": "code",
   "execution_count": 15,
   "metadata": {},
   "outputs": [
    {
     "data": {
      "text/plain": [
       "array([-0.5817028 ,  3.0651341 ,  1.74825175,  3.47490347,  0.        ,\n",
       "        2.        ,  2.30263158,  4.69208211,  3.33333333, -1.02643059])"
      ]
     },
     "execution_count": 15,
     "metadata": {},
     "output_type": "execute_result"
    }
   ],
   "source": [
    "sess = tf.InteractiveSession()\n",
    "N_center_all = [tf.reduce_sum(betas[n](tf_center_all)) for n in range(1,11)]\n",
    "calc_dist = sess.run(N_center_all)\n",
    "true_dist=[3782.,  261.,  286.,  259.,  260.,  250.,  304.,  341.,  360.,3897.]\n",
    "np.divide(np.subtract(calc_dist,true_dist),true_dist)*100"
   ]
  },
  {
   "cell_type": "markdown",
   "metadata": {},
   "source": [
    "Computing all 10 bin counts reveals an upper bound for the error of 5%. Not bad. Let's see what we can do with it."
   ]
  },
  {
   "cell_type": "markdown",
   "metadata": {},
   "source": [
    "### 4. Computing the Entropy of a discrete distribution  "
   ]
  },
  {
   "cell_type": "markdown",
   "metadata": {},
   "source": [
    "The Entropy of a distribution X was defined as\n",
    "\n",
    "$$ H(X) := -\\sum_{x \\in \\mathcal{X}} p(x) \\log p(x)$$\n",
    "\n",
    "Using the bin counts $c_k$ with $\\sum c_k = M$ as shown above, we get\n",
    "\n",
    "$$ H(X) = -\\sum_{k=1}^N  \\frac{c_k}{M} \\log  \\frac{c_k}{M}$$\n",
    "\n",
    "thus using\n",
    "\n",
    "$$ c_k = \\sum_{i=1}^M \\beta_k(x_i) $$\n",
    "\n",
    "the entropy can be approximated by\n",
    "\n",
    "$$ \\tilde{H}(X) = \\log M -\\frac{1}{M}\\sum_{k=1}^N  \\sum_{i=1}^M \\beta_k(x_i)  \\log  \\sum_{i=1}^M \\beta_k(x_i) $$\n",
    "\n"
   ]
  },
  {
   "cell_type": "code",
   "execution_count": 16,
   "metadata": {},
   "outputs": [],
   "source": [
    "def entropy(D, N, alpha, epsilon, squeeze=0.01):\n",
    "    \"\"\"\n",
    "    Calculate the entropy of discrete sample D using N bins \n",
    "    \"\"\"\n",
    "    d_max=tf.reduce_max(D)\n",
    "    d_min=tf.reduce_min(D)\n",
    "    M = tf.cast(tf.size(D), dtype=tf.float32)\n",
    "    D = D * (1-2*squeeze) + squeeze # otherwise min and max would be counted as halves.\n",
    "    \n",
    "    filters=[beta(k, N, d_min, d_max, alpha, epsilon) for k in range(1, N+1)]\n",
    "    c=[tf.reduce_sum(filters[k](D)) for k in range(N)] # this is summing over i\n",
    "    sums = tf.reduce_sum(c * tf.log(c)) \n",
    "    return tf.log(M) - sums / M"
   ]
  },
  {
   "cell_type": "markdown",
   "metadata": {},
   "source": [
    "Note, that in the above implementation, we didn't supply lower and upper bounds so the counts may slightly differ from the previous calculations. In a scenario with a bigger range of values, that will not matter much. In the end, we know we're approximating the entropy anyway."
   ]
  },
  {
   "cell_type": "code",
   "execution_count": 17,
   "metadata": {},
   "outputs": [
    {
     "data": {
      "text/plain": [
       "1.5702343"
      ]
     },
     "execution_count": 17,
     "metadata": {},
     "output_type": "execute_result"
    }
   ],
   "source": [
    "sess = tf.InteractiveSession()\n",
    "sess.run(entropy(tf_center_all, 10, alpha=ALPHA, epsilon=EPSILON))"
   ]
  },
  {
   "cell_type": "markdown",
   "metadata": {},
   "source": [
    "Now, the conditional entropy goes just the same way, only that we need to mask the classes out after counting the samples in each bin. Masking is obviously done with the help of the labels that usually come with the training samples.\n",
    "\n",
    "Remember how we calculate the conditional entropy? In our case, $x$ is the class label - the prior - and $y$ is the index of the bin or partition that the pixel is sorted into.\n",
    "\n",
    "$$ H(Y \\big| X) = \\sum_{x \\in \\mathcal{X}} \\sum_{y\\in \\mathcal{Y}} p(x,y) \\log(\\frac{p(x,y)}{p(x)})$$\n",
    "\n",
    "The implementation is pretty straight-forward"
   ]
  },
  {
   "cell_type": "code",
   "execution_count": 18,
   "metadata": {},
   "outputs": [],
   "source": [
    "def cond_entropy(D, L, N_classes, N_bins, alpha, epsilon, squeeze=1e-2):\n",
    "    \"\"\"\n",
    "        calculate the conditional entropy of distribution D given labels L\n",
    "    \"\"\"\n",
    "    epsilon_stab = 1e-4\n",
    "    d_max=tf.reduce_max(D)\n",
    "    d_min=tf.reduce_min(D)\n",
    "    M=tf.cast(tf.size(D), dtype=tf.float32)\n",
    "    D = D * (1-2*squeeze) + squeeze # otherwise min and max would be counted as halves.\n",
    "    betas=[beta(n, N_bins, d_min, d_max, alpha, epsilon) for n in range(1, N_bins+1)]\n",
    "\n",
    "    # The mask is used to count by class\n",
    "    mask = [ tf.cast(tf.equal(c, L), tf.float32) for c in range(N_classes) ]\n",
    "    # N_classes lists of counts => N_classes conditional distributions\n",
    "    cond_counts = [\n",
    "        [\n",
    "            tf.reduce_sum(betas[n](D) * mask[k]) for n in range(N_bins)\n",
    "        ] for k in range(N_classes)\n",
    "    ]\n",
    "\n",
    "    pxy = cond_counts / M # p(x,y)\n",
    "\n",
    "    px = tf.reduce_sum(cond_counts, axis=1) / M # p(x)\n",
    "\n",
    "    # need to transpose forth and back to enable broadcasting\n",
    "    pxy_px = tf.transpose(tf.transpose(pxy) / (tf.transpose(px)) + epsilon_stab) # stabilized log term\n",
    "\n",
    "    return -tf.reduce_sum(pxy * tf.log(pxy_px))\n"
   ]
  },
  {
   "cell_type": "code",
   "execution_count": 19,
   "metadata": {},
   "outputs": [
    {
     "data": {
      "text/plain": [
       "1.3081253"
      ]
     },
     "execution_count": 19,
     "metadata": {},
     "output_type": "execute_result"
    }
   ],
   "source": [
    "sess = tf.InteractiveSession()\n",
    "D = tf_center_all\n",
    "L = tf_center_all_labels\n",
    "sess.run(cond_entropy(D, L, N_classes=10, N_bins=10, alpha=ALPHA, epsilon=EPSILON))"
   ]
  },
  {
   "cell_type": "code",
   "execution_count": 20,
   "metadata": {},
   "outputs": [],
   "source": [
    "def info_gain(D, L, N_classes, N_bins, alpha, epsilon ):\n",
    "    H_cond = cond_entropy(D, L, N_classes, N_bins, alpha, epsilon)\n",
    "    H_D = entropy(D, N_classes, alpha, epsilon)\n",
    "    return H_D - H_cond"
   ]
  },
  {
   "cell_type": "code",
   "execution_count": 21,
   "metadata": {},
   "outputs": [
    {
     "data": {
      "text/plain": [
       "0.26210904"
      ]
     },
     "execution_count": 21,
     "metadata": {},
     "output_type": "execute_result"
    }
   ],
   "source": [
    "sess = tf.InteractiveSession()\n",
    "sess.run(info_gain(D, L, N_classes=10, N_bins=10, alpha=ALPHA, epsilon=EPSILON))"
   ]
  },
  {
   "cell_type": "markdown",
   "metadata": {},
   "source": [
    "Now we intend to train a network to minimize the conditional entropy while maintaining the given entropy of the signal."
   ]
  },
  {
   "cell_type": "code",
   "execution_count": null,
   "metadata": {},
   "outputs": [],
   "source": []
  }
 ],
 "metadata": {
  "kernelspec": {
   "display_name": "Python 3",
   "language": "python",
   "name": "python3"
  },
  "language_info": {
   "codemirror_mode": {
    "name": "ipython",
    "version": 3
   },
   "file_extension": ".py",
   "mimetype": "text/x-python",
   "name": "python",
   "nbconvert_exporter": "python",
   "pygments_lexer": "ipython3",
   "version": "3.6.4"
  }
 },
 "nbformat": 4,
 "nbformat_minor": 2
}
