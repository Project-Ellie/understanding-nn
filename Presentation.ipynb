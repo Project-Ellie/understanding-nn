{
 "cells": [
  {
   "cell_type": "markdown",
   "metadata": {
    "slideshow": {
     "slide_type": "slide"
    }
   },
   "source": [
    "# Trying to Understand Neural Networks\n",
    "#### A collection of glimpses into a complex field\n",
    "##### by Wolfgang Giersche, Zühlke Engineering\n",
    "![Fashion MNIST t-SNE](./images/Some_Network.jpeg)\n"
   ]
  },
  {
   "cell_type": "markdown",
   "metadata": {
    "slideshow": {
     "slide_type": "slide"
    }
   },
   "source": [
    "# Agenda\n",
    "\n",
    "### 1. Intriguing Visualizations \n",
    "#### 1.1 Neural networks and topology (Olah)\n",
    "### 3. Neural networks and information theory []\n",
    "### 4. Input Optimization (my Scala code?)\n",
    "### 5. Visualizing layer activations (new Olah blog)\n",
    "### 6. Autoencoder (Example: Capsnet)\n",
    "### 7. Visualizing LSTM's hidden state dynamics\n",
    "### 8. Resources"
   ]
  },
  {
   "cell_type": "code",
   "execution_count": 1,
   "metadata": {
    "slideshow": {
     "slide_type": "skip"
    }
   },
   "outputs": [
    {
     "data": {
      "text/plain": [
       "'1.7.0'"
      ]
     },
     "execution_count": 1,
     "metadata": {},
     "output_type": "execute_result"
    }
   ],
   "source": [
    "import tensorflow as tf\n",
    "tf.__version__"
   ]
  },
  {
   "cell_type": "markdown",
   "metadata": {
    "slideshow": {
     "slide_type": "skip"
    }
   },
   "source": [
    "## 1. Neural Networks are just functions\n",
    "### Feed-Forward Neural networks\n",
    "### Convolutional Neural networks\n",
    "### Gradient Descent Algorithms\n"
   ]
  },
  {
   "cell_type": "markdown",
   "metadata": {
    "slideshow": {
     "slide_type": "skip"
    }
   },
   "source": [
    "## 2. Topology of activation mappings\n",
    "\n",
    "Depth and additional dimensions support linear separation in the last layer\n",
    "squeezing may lead to extraordinarily large gradients. That may alleviate adversary attacks, such as one-pixel attacks\n",
    "\n",
    "[Karpathy's ConvnetJS](https://cs.stanford.edu/people/karpathy/convnetjs/demo/classify2d.html)"
   ]
  },
  {
   "cell_type": "markdown",
   "metadata": {
    "slideshow": {
     "slide_type": "skip"
    }
   },
   "source": [
    "## 3. Information Theory\n",
    "\n",
    "Introduction: Aurelion Geron's Youtube video"
   ]
  },
  {
   "cell_type": "markdown",
   "metadata": {
    "slideshow": {
     "slide_type": "skip"
    }
   },
   "source": [
    "## 4. Input Optimization\n",
    "\n",
    "The 'perfect' T-shirt: Freeze the network, make the image a tf.Variable\n",
    "Reference: One-pixel attack"
   ]
  },
  {
   "cell_type": "markdown",
   "metadata": {
    "slideshow": {
     "slide_type": "skip"
    }
   },
   "source": [
    "## 5. Visualizing Layer Activations\n",
    "\n",
    "Chris Olah's new blog"
   ]
  },
  {
   "cell_type": "markdown",
   "metadata": {
    "slideshow": {
     "slide_type": "skip"
    }
   },
   "source": [
    "## 6. Using Auto-Encoders\n",
    "\n",
    "Example: Hinton/Sabour's Capsnet. Understand how degrees of freedom in activations (translation invariance or equivariance) relate to variations of input samples\n",
    "Aurelion's description and notebook"
   ]
  },
  {
   "cell_type": "markdown",
   "metadata": {
    "slideshow": {
     "slide_type": "skip"
    }
   },
   "source": [
    "## 7. Visualizing LSTM's hidden state dynamics"
   ]
  },
  {
   "cell_type": "markdown",
   "metadata": {
    "slideshow": {
     "slide_type": "slide"
    }
   },
   "source": [
    "## 8. Resources\n",
    "\n",
    "[Nielsen2015] <a name=\"Nielsen2015\"/> \n",
    "Michael A. Nielsen, Neural Networks and Deep Learning (2015). *Determination Press* -\n",
    "[Blog](http://neuralnetworksanddeeplearning.com/) - [Github](https://github.com/mnielsen/neural-networks-and-deep-learning)\n",
    "\n",
    "[Ruder2016] <a name=\"Ruder2016\"/>\n",
    "Sebastian Ruder (2016). An Overview of Gradient Descent Optimization Algorithms. *Personal Blog* -\n",
    "[Blog](http://ruder.io/optimizing-gradient-descent/)\n",
    "\n",
    "[Tishby2000] <a name=\"Tishby2000\"/> \n",
    "Tishby, N., Pereira, F. C., & Bialek, W. (2000). The information bottleneck method. https://doi.org/10.1108/eb040537 - \n",
    "[Arxiv](https://arxiv.org/abs/physics/0004057)\n",
    "\n",
    "[Tishby2015] <a name=\"Tishby2015\"]/> \n",
    "Tishby, N., & Zaslavsky, N. (2015). Deep Learning and the Information Bottleneck Principle. Ieee, 1–5. https://doi.org/10.1109/ITW.2015.7133169 -\n",
    "[Arxiv](http://arxiv.org/abs/1503.02406)\n",
    "\n",
    "[Olah2018] <a name=\"Olah2018\"/> Olah, et al. (2018). \"The Building Blocks of Interpretability\", *Distill*. - \n",
    "[Blog](https://distill.pub/2018/building-blocks/)\n",
    "\n",
    "[Olah2017] <a name=\"Olah2017\"/> \n",
    "Olah, et al. (2017), \"Feature Visualization\", *Distill*. - \n",
    "[Github](https://github.com/distillpub/post--feature-visualization) - [Blog](https://distill.pub/2017/feature-visualization/)\n",
    "\n",
    "[Olah2014-1] <a name=\"Olah2014-1\"/>\n",
    "Christopher Olah (2014). \"Neural Networks, Manifolds, and Topology - *Personal Blog* - \n",
    "[Blog](http://colah.github.io/posts/2014-03-NN-Manifolds-Topology)\n",
    "\n",
    "[Xiao2017] <a name=\"Xiao2017\"/>\n",
    "Xiao, H., Rasul, K., & Vollgraf, R. (2017). Fashion-MNIST: a Novel Image Dataset for Benchmarking Machine Learning Algorithms - \n",
    "[Arxiv](http://arxiv.org/abs/1708.07747) - [Github](https://github.com/zalandoresearch/fashion-mnist)\n",
    "\n",
    "[Olah2014-2] <a name=\"Olah2014-2\"/> \n",
    "Cristopher Olah (2014). Visualizing MNIST: An Exploration of Dimensionality Reduction. *Personal Blog* -\n",
    "[Blog](http://colah.github.io/posts/2014-10-Visualizing-MNIST/)\n",
    "\n",
    "[Geron2018] <a name=\"Geron2018\"/> \n",
    "Aurelion Geron (2018). Entropy, Cross-Entropy, & KL-Divergence. *Video Blog* -\n",
    "[Youtube](https://www.youtube.com/watch?v=ErfnhcEV1O8)\n",
    "\n",
    "[Su2017] <a name=\"Su2017\"/> \n",
    "Su, J., Vargas, D. V., & Kouichi, S. (2017). One pixel attack for fooling deep neural networks. -\n",
    "[Arxiv](http://arxiv.org/abs/1710.08864)\n",
    "\n",
    "[Khadivi2016] <a name=\"Khadivi2016\"/> \n",
    "Khadivi, P., Tandon, R., & Ramakrishnan, N. (2016). Flow of Information in Feed-Forward Deep Neural Networks. - \n",
    "[Arxiv](http://arxiv.org/abs/1603.06220)\n",
    "\n",
    "[Strobelt2018] <a name=\"Strobelt2018\"/>\n",
    "Strobelt, H., Gehrmann, S., Pfister, H., & Rush, A. M. (2018). LSTMVis: A Tool for Visual Analysis of Hidden State Dynamics in Recurrent Neural Networks. *IEEE Transactions on Visualization and Computer Graphics, 24(1), 667–676.* https://doi.org/10.1109/TVCG.2017.2744158 - \n",
    "[Vimeo](https://vimeo.com/215907429) - [Arxiv](https://arxiv.org/pdf/1606.07461.pdf) - [Homepage](http://lstm.seas.harvard.edu/) - [github](https://github.com/HendrikStrobelt/LSTMVis)\n",
    "\n",
    "[Sabour2017] <a name=\"Sabour2017\"/> \n",
    "Sabour, S., Frosst, N., & Hinton, G. E. (2017). Dynamic Routing Between Capsules. -\n",
    "[Arxiv](http://arxiv.org/abs/1710.09829)\n",
    "\n",
    "[Geron2017] <a name=\"Geron2017\"/> \n",
    "Arelion Geron (2017). Capsule Networks. *Video Blogs* - \n",
    "[Youtube: Explanation](https://www.youtube.com/watch?v=pPN8d0E3900) - [Youtube: Implementation](https://www.youtube.com/watch?v=2Kawrd5szHE) - [Github](https://github.com/ageron/handson-ml)\n",
    "\n",
    "[Hinton2011] <a name=\"Hinton2011\"/> \n",
    "Hinton, G. E., Krizhevsky, A., & Wang, S. D. (2011). Transforming auto-encoders. *In Lecture Notes in Computer Science (including subseries Lecture Notes in Artificial Intelligence and Lecture Notes in Bioinformatics) (Vol. 6791 LNCS, pp. 44–51).* https://doi.org/10.1007/978-3-642-21735-7_6\n",
    "[pdf](http://www.cs.toronto.edu/~fritz/absps/transauto6.pdf)"
   ]
  },
  {
   "cell_type": "code",
   "execution_count": null,
   "metadata": {},
   "outputs": [],
   "source": []
  },
  {
   "cell_type": "code",
   "execution_count": null,
   "metadata": {},
   "outputs": [],
   "source": []
  }
 ],
 "metadata": {
  "kernelspec": {
   "display_name": "Python 3",
   "language": "python",
   "name": "python3"
  },
  "language_info": {
   "codemirror_mode": {
    "name": "ipython",
    "version": 3
   },
   "file_extension": ".py",
   "mimetype": "text/x-python",
   "name": "python",
   "nbconvert_exporter": "python",
   "pygments_lexer": "ipython3",
   "version": "3.6.4"
  }
 },
 "nbformat": 4,
 "nbformat_minor": 2
}
